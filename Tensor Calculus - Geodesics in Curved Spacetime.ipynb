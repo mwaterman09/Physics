{
 "cells": [
  {
   "cell_type": "markdown",
   "id": "56ea9e39",
   "metadata": {},
   "source": [
    "### Introduction  \n",
    "According to Einstein's theory of General Relativity, the gravity we see acting on an object is the manifestation of spacetime curvature around a massive object rather than a physical force. In the absence of external forces, objects in motion in the presence of a massive body follow the straightest path through the curved space. These paths are called *geodesics*, and the equation of the paths of such an object is called the *geodesic equation*.  \n",
    "In this project, we will use the Euler-Lagrange equations and tensor calculus to derive the geodesic equation as a minimization problem."
   ]
  },
  {
   "cell_type": "markdown",
   "id": "add64a3d",
   "metadata": {},
   "source": [
    "### Preliminaries  \n",
    "The geodesic equation is a system of differential equations in terms of the metric tensor, its derivatives, the coordinates of the space, and a scalar parameter $\\lambda.$ The standard form is written as the following:\n",
    "\n",
    "$$\\tag{1} \\frac{d^2x^\\sigma}{d\\lambda^2} + \\Gamma_{\\gamma\\nu}^{\\sigma}\\frac{dx^\\gamma}{d\\lambda}\\frac{dx^\\nu}{d\\lambda}=0$$\n",
    "\n",
    "where $x$ represents an element of the coordinate system, $\\Gamma_{\\gamma\\nu}^{\\sigma}$ is the *Christoffel symbol of the second kind*, and $\\alpha$ and all other greek indices are assumed to run from 0 to 3, to represent 4-dimensional space. The Christoffel symbol is a collection of coefficients which represent the curvature of a surface and will be defined later. In this and all subsequent expressions the Einstein summation convention will be used, which is to say that wherever an index is repeated in one upper and one lower position, a summation over that index is implied. and the sigma will be omitted. For example above,\n",
    "\n",
    "$$ \\Gamma_{\\gamma\\nu}^{\\sigma}\\frac{dx^\\gamma}{d\\lambda}\\frac{dx^\\nu}{d\\lambda} = \\sum_{\\gamma=0}^n\\sum_{\\nu=0}^n\\Gamma_{\\gamma\\nu}^{\\sigma}\\frac{dx^\\gamma}{d\\lambda}\\frac{dx^\\nu}{d\\lambda}$$"
   ]
  },
  {
   "cell_type": "markdown",
   "id": "7c477c29",
   "metadata": {},
   "source": [
    "The *Euler-Lagrange equations* are a system of partial differential equations that arise from the calculus of variations. Solving them provides the equation of a path through space that minimizes the quantity known as the *Lagrangian*.  The indexed form we will use is  "
   ]
  },
  {
   "cell_type": "markdown",
   "id": "af5c2304",
   "metadata": {},
   "source": [
    "\n",
    "<div style=\"height:2cm;\">\n",
    "$$\\frac{\\partial L}{\\partial x^\\alpha} - \\frac{d}{d\\lambda} \n",
    "\\frac{\\partial L}{ \\partial \\frac{dx^\\alpha}{d\\lambda}} = 0 \\tag{2}$$"
   ]
  },
  {
   "cell_type": "markdown",
   "id": "1dd0389e",
   "metadata": {},
   "source": [
    "where $L$ is the lagrangian to be minimized, $x^\\alpha$, $\\alpha = 0, 1, 2, 3$ are the coordinates, and $\\lambda$ is a scalar parameter. If the quantity $L$ satisfies this equation, it is a extremal solution."
   ]
  },
  {
   "cell_type": "markdown",
   "id": "c9a95707",
   "metadata": {},
   "source": [
    "In order to formulate the problem as a minimization problem, the first step is to determine the lagrangian. In this case, the quantity we want to minimize is the distance between two points on a hypersurface of arbitrary curvature. From vector calculus, the formula for arc length between points *a* and *b* along a path parametrized by $\\lambda$ in three dimensions is given by \n",
    "\n",
    "$$ \\tag{3} L = \\int_a^b\\sqrt{\\left( \\frac{dx^1}{d\\lambda} \\right)^2 + \\left( \\frac{dx^2}{d\\lambda} \\right)^2 + \\left(\\frac{dx^3}{d\\lambda} \\right)^2} d\\lambda $$\n",
    "\n",
    "where $x^1, x^2, x^3$ are the usual $x, y$, and $z$ coordinates of a position vector tracing the arc. However, this presupposes that the space in which the arc lies is flat, or *Euclidean*. In curved space, coefficients must be placed in front of each derivative in the square root to describe the curvature with respect to that coordinate. In the flat space of equation (3) these coefficients are assumed to be 1. The coefficients are collected in an object known as the *metric tensor* $g_{\\mu \\nu}$. For flat 3-D Euclidean space, the metric tensor may be written in matrix form as  \n",
    "\n",
    "$$ g_{\\mu\\nu} = \\begin{bmatrix} 1 & 0 & 0 \\\\ 0 & 1 & 0 \\\\ 0 & 0 & 1 \\end{bmatrix}$$  \n"
   ]
  },
  {
   "cell_type": "markdown",
   "id": "9b0740c9",
   "metadata": {},
   "source": [
    "but in non-Euclidean spaces the matrix elements vary. The metric tensor, combined with index notation allows *(3)* to be written in a general form as \n",
    "\n",
    "$$ L = \\int_a^b\\sqrt{g_{\\mu\\nu}\\frac{dx^\\mu}{d\\lambda}\\frac{dx^\\nu}{d\\lambda}} d\\lambda $$  \n",
    "\n",
    "Because we are only considering the differential arc length, we take the integrand as the lagrangian\n",
    "\n",
    "$$ L=\\sqrt{g_{\\mu\\nu}\\frac{dx^\\mu}{d\\lambda}\\frac{dx^\\nu}{d\\lambda}} \\tag{4}$$\n",
    "\n",
    "This is the general formula for a differential distance along a surface of arbitrary dimension and curvature."
   ]
  },
  {
   "cell_type": "markdown",
   "id": "6d629266",
   "metadata": {},
   "source": [
    "### Deriving the Geodesic Equation"
   ]
  },
  {
   "cell_type": "markdown",
   "id": "49298beb",
   "metadata": {},
   "source": [
    "The next step is to set up the Euler-Lagrange equations. This is done by plugging equation (4) into equation (2) and results in the following  \n",
    "\n",
    "$$ \\frac{\\partial}{\\partial x^\\alpha} \\sqrt{g_{\\mu\\nu}\\frac{dx^\\mu}{d\\lambda}\\frac{dx^\\nu}{d\\lambda}} \n",
    " - \\frac{d}{d\\lambda} \\frac{\\partial}{ \\partial \\frac{dx^\\alpha}{d\\lambda}} \\sqrt{g_{\\mu\\nu}\\frac{dx^\\mu}{d\\lambda}\\frac{dx^\\nu}{d\\lambda}} = 0 \\tag{5}$$  \n",
    " \n",
    " This is the equation we must use to obtain the geodesic equation. We will break it down into four parts:  \n",
    " 1) Calculate the first term partial derivative with respect to $x^\\alpha$\n",
    " 2) Calculate the partial derivative of the second term with respect to $\\frac{dx^\\alpha}{d\\lambda}$\n",
    " 3) Calculate the ordinary derivative of the result of step 2 with respect to $\\lambda$\n",
    " 4) Manipulate the resulting expression to obtain the final form  \n",
    " \n",
    " Some assumptions we will make are that the coordinate system we have chosen is linearly independent, and the metric tensor is *symmetric* ($g_{\\mu\\nu} = g_{\\nu\\mu}$) implying a torsion-free space."
   ]
  },
  {
   "cell_type": "markdown",
   "id": "b56545be",
   "metadata": {},
   "source": [
    "#### Part 1)\n",
    "Taking the first term from equation (5),\n",
    "$$\\frac{\\partial}{\\partial x^\\alpha} \\sqrt{g_{\\mu\\nu}\\frac{dx^\\mu}{d\\lambda}\\frac{dx^\\nu}{d\\lambda}} = \n",
    "\\frac{\\partial}{\\partial x^\\alpha} \\left( {g_{\\mu\\nu}\\frac{dx^\\mu}{d\\lambda}\\frac{dx^\\nu}{d\\lambda}} \\right)^\\frac{1}{2} $$  \n",
    "\n",
    "Using the chain rule and remembering the definition of $L$, \n",
    "\n",
    "$$ \\displaystyle{\\frac{\\partial}{\\partial x^\\alpha} \\left( {g_{\\mu\\nu}\\frac{dx^\\mu}{d\\lambda}\\frac{dx^\\nu}{d\\lambda}} \\right)^\\frac{1}{2} = \\frac{1}{2} \\left({g_{\\mu\\nu}\\frac{dx^\\mu}{d\\lambda}\\frac{dx^\\nu}{d\\lambda}}\\right)^\\frac{-1}{2} \n",
    "\\frac{\\partial}{\\partial x^\\alpha} \\left( {g_{\\mu\\nu}\\frac{dx^\\mu}{d\\lambda}\\frac{dx^\\nu}{d\\lambda}} \\right)}\n",
    "$$  \n",
    "\n",
    "$$ \n",
    "\\frac{1}{2\\sqrt{g_{\\mu\\nu}\\frac{dx^\\mu}{d\\lambda}\\frac{dx^\\nu}{d\\lambda}}}\n",
    "\\frac{\\partial}{\\partial x^\\alpha} \\left( {g_{\\mu\\nu}\\frac{dx^\\mu}{d\\lambda}\\frac{dx^\\nu}{d\\lambda}} \\right) = \n",
    "\\frac{1}{2L}\\frac{\\partial}{\\partial x^\\alpha} \\left( {g_{\\mu\\nu}\\frac{dx^\\mu}{d\\lambda}\\frac{dx^\\nu}{d\\lambda}} \\right) \n",
    "$$"
   ]
  },
  {
   "cell_type": "markdown",
   "id": "103fc13e",
   "metadata": {},
   "source": [
    "Since the coordinates $x^{\\mu}$ are linearly independent, their derivatives with respect to other coordinates are always zero and thus we consider only the derivative of the metric tensor with respect to the coordinates. We then have"
   ]
  },
  {
   "cell_type": "markdown",
   "id": "f1d4eed9",
   "metadata": {},
   "source": [
    "$$ \\frac{1}{2L}\\frac{\\partial}{\\partial x^\\alpha} \\left( {g_{\\mu\\nu}\\frac{dx^\\mu}{d\\lambda}\\frac{dx^\\nu}{d\\lambda}} \\right) = \n",
    "\\frac{1}{2L}\\frac{\\partial g_{\\mu\\nu}}{\\partial {x^\\alpha}}\\frac{dx^\\mu}{d\\lambda}\\frac{dx^\\nu}{d\\lambda} \\tag{6}$$"
   ]
  },
  {
   "cell_type": "markdown",
   "id": "20b92bf4",
   "metadata": {},
   "source": [
    "#### Part 2)"
   ]
  },
  {
   "cell_type": "markdown",
   "id": "6aa244b7",
   "metadata": {},
   "source": [
    "Taking the second term from equation (5),\n",
    "$$\n",
    "\\frac{\\partial}{ \\partial \\frac{dx^\\alpha}{d\\lambda}} \\sqrt{g_{\\mu\\nu}\\frac{dx^\\mu}{d\\lambda}\\frac{dx^\\nu}{d\\lambda}} = \n",
    "\\frac{\\partial}{ \\partial \\frac{dx^\\alpha}{d\\lambda}}\\left( {g_{\\mu\\nu}\\frac{dx^\\mu}{d\\lambda}\\frac{dx^\\nu}{d\\lambda}} \\right)^{\\frac{1}{2}}\n",
    "$$\n",
    "\n",
    "Using the chain rule again,\n",
    "\n",
    "$$\n",
    "\\frac{\\partial}{ \\partial \\frac{dx^\\alpha}{d\\lambda}}\\left( {g_{\\mu\\nu}\\frac{dx^\\mu}{d\\lambda}\\frac{dx^\\nu}{d\\lambda}} \\right)^{\\frac{1}{2}} = \n",
    "\\frac{1}{2}\\left( {g_{\\mu\\nu}\\frac{dx^\\mu}{d\\lambda}\\frac{dx^\\nu}{d\\lambda}} \\right)^{\\frac{-1}{2}}\n",
    "\\frac{\\partial}{ \\partial \\frac{dx^\\alpha}{d\\lambda}}\\left( {g_{\\mu\\nu}\\frac{dx^\\mu}{d\\lambda}\\frac{dx^\\nu}{d\\lambda}} \\right)\n",
    "$$\n",
    "\n",
    "$$\n",
    "\\frac{1}{2\\sqrt{g_{\\mu\\nu}\\frac{dx^\\mu}{d\\lambda}\\frac{dx^\\nu}{d\\lambda}}}\n",
    "\\frac{\\partial}{ \\partial \\frac{dx^\\alpha}{d\\lambda}}\\left( {g_{\\mu\\nu}\\frac{dx^\\mu}{d\\lambda}\\frac{dx^\\nu}{d\\lambda}} \\right)\n",
    " = \\frac{1}{2L}\\frac{\\partial}{ \\partial \\frac{dx^\\alpha}{d\\lambda}}\\left( {g_{\\mu\\nu}\\frac{dx^\\mu}{d\\lambda}\\frac{dx^\\nu}{d\\lambda}} \\right)\n",
    "$$"
   ]
  },
  {
   "cell_type": "markdown",
   "id": "cb964532",
   "metadata": {},
   "source": [
    "Since $$ \\frac{\\partial}{ \\partial \\frac{dx^\\alpha}{d\\lambda}} \\left( {g_{\\mu\\nu}\\frac{dx^\\mu}{d\\lambda}\\frac{dx^\\nu}{d\\lambda}} \\right) = \n",
    "2 g_{\\mu\\nu} \\frac{dx^{\\nu}}{d\\lambda}\n",
    "$$"
   ]
  },
  {
   "cell_type": "markdown",
   "id": "70b2817b",
   "metadata": {},
   "source": [
    "we have $$\\frac{1}{2L}\\frac{\\partial}{ \\partial \\frac{dx^\\alpha}{d\\lambda}}\\left( {g_{\\mu\\nu}\\frac{dx^\\mu}{d\\lambda}\\frac{dx^\\nu}{d\\lambda}} \\right)\n",
    "= \\frac{1}{2L}2 g_{\\mu\\nu} \\frac{dx^{\\nu}}{d\\lambda} = \\frac{1}{L} g_{\\mu\\nu} \\frac{dx^{\\nu}}{d\\lambda} \\tag{7}$$"
   ]
  },
  {
   "cell_type": "markdown",
   "id": "6b5ece2d",
   "metadata": {},
   "source": [
    "#### Part 3) \n",
    "\n",
    "Taking the derivative with respect to $\\lambda$ of the right hand side of (7) and using the product rule,"
   ]
  },
  {
   "cell_type": "markdown",
   "id": "3c40b410",
   "metadata": {},
   "source": [
    "$$\n",
    "\\frac{1}{L} \\frac{d}{d\\lambda}g_{\\mu\\nu} \\frac{dx^{\\nu}}{d\\lambda} = \n",
    "\\frac{1}{L} \\left( \\frac{d g_{\\mu\\nu}}{d\\lambda}\\frac{dx^\\nu}{d\\lambda} + g_{\\mu\\nu}\\frac{d^2x^{\\nu}}{d\\lambda^2} \\right)\n",
    "$$"
   ]
  },
  {
   "cell_type": "markdown",
   "id": "12304ea4",
   "metadata": {},
   "source": [
    "Due to the fact that the metric tensor varies with the coordinates, and the coordinates vary with $\\lambda$ we apply the chain rule and introduce a new index $\\gamma$\n",
    "\n",
    "$$\n",
    "\\frac{dg_{\\mu\\nu}}{d\\lambda} = \\frac{\\partial g_{\\mu\\nu}}{\\partial x^\\gamma}\\frac{dx^\\gamma}{d\\lambda}\n",
    "$$"
   ]
  },
  {
   "cell_type": "markdown",
   "id": "69790164",
   "metadata": {},
   "source": [
    "and then we arrive at $$\n",
    "\\frac{1}{L} \\left(\\frac{\\partial g_{\\mu\\nu}}{\\partial x^\\gamma}\\frac{dx^\\gamma}{d\\lambda}\\frac{dx^\\nu}{d\\lambda} + g_{\\mu\\nu}\\frac{d^2x^{\\nu}}{d\\lambda^2} \\right) \\tag{8}$$"
   ]
  },
  {
   "cell_type": "markdown",
   "id": "29f39b53",
   "metadata": {},
   "source": [
    "#### Part 4)"
   ]
  },
  {
   "cell_type": "markdown",
   "id": "d97bd3cf",
   "metadata": {},
   "source": [
    "Now we can put our results together. Combining the right hand side of equation (6) with the expression in (8), we obtain the following:\n",
    "\n",
    "$$\n",
    "\\frac{1}{2L}\\frac{\\partial g_{\\mu\\nu}}{\\partial {x^\\alpha}}\\frac{dx^\\mu}{d\\lambda}\\frac{dx^\\nu}{d\\lambda} -\n",
    "\\frac{1}{L} \\left(\\frac{\\partial g_{\\mu\\nu}}{\\partial x^\\gamma}\\frac{dx^\\gamma}{d\\lambda}\\frac{dx^\\nu}{d\\lambda} + g_{\\mu\\nu}\\frac{d^2x^{\\nu}}{d\\lambda^2} \\right) = 0\n",
    "$$"
   ]
  },
  {
   "cell_type": "markdown",
   "id": "0e66e0bc",
   "metadata": {},
   "source": [
    "Multiplying both sides by $-L$ and rearranging we get\n",
    "\n",
    "$$ g_{\\mu\\nu}\\frac{d^2x^{\\nu}}{d\\lambda^2} -\\frac{1}{2}\\frac{\\partial g_{\\mu\\nu}}{\\partial {x^\\alpha}}\\frac{dx^\\mu}{d\\lambda}\\frac{dx^\\nu}{d\\lambda} + \\frac{\\partial g_{\\mu\\nu}}{\\partial x^\\gamma}\\frac{dx^\\gamma}{d\\lambda}\\frac{dx^\\nu}{d\\lambda} = 0 \\tag{9}$$"
   ]
  },
  {
   "cell_type": "markdown",
   "id": "6468ccc7",
   "metadata": {},
   "source": [
    "Now we will manipulate equation (9) until it is in a suitable form to use the following definition of the Christoffel symbol \n",
    "\n",
    "$$ \\Gamma_{\\gamma\\nu}^{\\sigma} = \n",
    "\\frac{1}{2} g^{\\sigma\\mu} \\left( \\frac{\\partial g_{\\mu\\nu}}{\\partial x^{\\gamma}} \n",
    "+ \\frac{\\partial g_{\\mu\\gamma}}{\\partial x^\\nu} - \\frac{\\partial g_{\\gamma\\nu}}{\\partial x^\\alpha} \\right) \\tag{10}$$"
   ]
  },
  {
   "cell_type": "markdown",
   "id": "3718853f",
   "metadata": {},
   "source": [
    "where $g^{\\sigma\\mu}$ is the inverse metric tensor."
   ]
  },
  {
   "cell_type": "markdown",
   "id": "0a1b439f",
   "metadata": {},
   "source": [
    "Summation indices are called *dummy indices* and may be relabeled without changing the meaning of the expression. Taking the second term in equation (9) and relabeling index $\\mu \\rightarrow \\gamma$ we write\n",
    "\n",
    "$$\n",
    "g_{\\mu\\nu}\\frac{d^2x^{\\nu}}{d\\lambda^2} -\\frac{1}{2}\\frac{\\partial g_{\\gamma\\nu}}{\\partial {x^\\alpha}}\\frac{dx^\\gamma}{d\\lambda}\\frac{dx^\\nu}{d\\lambda} + \\frac{\\partial g_{\\mu\\nu}}{\\partial x^\\gamma}\\frac{dx^\\gamma}{d\\lambda}\\frac{dx^\\nu}{d\\lambda}\n",
    " = 0\n",
    "$$"
   ]
  },
  {
   "cell_type": "markdown",
   "id": "1c62157b",
   "metadata": {},
   "source": [
    "We may now factor out the first order ordinary derivatives.\n",
    "\n",
    "$$\n",
    "g_{\\mu\\nu}\\frac{d^2x^{\\nu}}{d\\lambda^2} \n",
    "+ \\left( -\\frac{1}{2}\\frac{\\partial g_{\\gamma\\nu}}{\\partial {x^\\alpha}}\n",
    "+ \\frac{\\partial g_{\\mu\\nu}}{\\partial x^\\gamma} \\right)\n",
    "\\frac{dx^\\gamma}{d\\lambda}\\frac{dx^\\nu}{d\\lambda}\n",
    " = 0\n",
    "$$"
   ]
  },
  {
   "cell_type": "markdown",
   "id": "f1e7beaf",
   "metadata": {},
   "source": [
    "Factoring out the $1/2$ we get\n",
    "\n",
    "$$\n",
    "g_{\\mu\\nu}\\frac{d^2x^{\\nu}}{d\\lambda^2} \n",
    "+ \\frac{1}{2}\\left( -\\frac{\\partial g_{\\gamma\\nu}}{\\partial {x^\\alpha}}\n",
    "+ 2\\frac{\\partial g_{\\mu\\nu}}{\\partial x^\\gamma} \\right)\n",
    "\\frac{dx^\\gamma}{d\\lambda}\\frac{dx^\\nu}{d\\lambda}\n",
    " = 0\n",
    "$$"
   ]
  },
  {
   "cell_type": "markdown",
   "id": "0c50804e",
   "metadata": {},
   "source": [
    "which can be written as \n",
    "\n",
    "$$g_{\\mu\\nu}\\frac{d^2x^{\\nu}}{d\\lambda^2} +\n",
    "\\frac{1}{2}\\left( -\\frac{\\partial g_{\\gamma\\nu}}{\\partial {x^\\alpha}} +\n",
    " \\frac{\\partial g_{\\mu\\nu}}{\\partial x^\\gamma} +\n",
    " \\frac{\\partial g_{\\mu\\nu}}{\\partial x^\\gamma}\\right)\n",
    "\\frac{dx^\\gamma}{d\\lambda}\\frac{dx^\\nu}{d\\lambda}\n",
    " = 0 \\tag{11}$$"
   ]
  },
  {
   "cell_type": "markdown",
   "id": "9cf28f00",
   "metadata": {},
   "source": [
    "Taking advantage of index relabeling again, we can use the fact that \n",
    "\n",
    "$$\n",
    "\\frac{\\partial g_{\\mu\\nu}}{\\partial {x^\\gamma}} \\frac{dx^\\gamma}{d\\lambda} \\frac{dx^\\nu}{d\\lambda}\n",
    "= \\frac{\\partial g_{\\mu\\gamma}}{\\partial x^{\\nu}} \\frac{dx^{\\gamma}}{d\\lambda} \\frac{dx^\\nu}{d\\lambda}\n",
    "$$"
   ]
  },
  {
   "cell_type": "markdown",
   "id": "5341820f",
   "metadata": {},
   "source": [
    "and rewrite the third term inside of the parenthesis in equation (11) as \n",
    "\n",
    "$$\n",
    "g_{\\mu\\nu}\\frac{d^2x^{\\nu}}{d\\lambda^2} \n",
    "+ \\frac{1}{2}\\left( -\\frac{\\partial g_{\\gamma\\nu}}{\\partial {x^\\alpha}}\n",
    "+ \\frac{\\partial g_{\\mu\\nu}}{\\partial x^\\gamma}\n",
    "+ \\frac{\\partial g_{\\mu\\gamma}}{\\partial x^\\nu}\\right)\n",
    "\\frac{dx^\\gamma}{d\\lambda}\\frac{dx^\\nu}{d\\lambda}\n",
    " = 0 \n",
    "$$"
   ]
  },
  {
   "cell_type": "markdown",
   "id": "41d3494d",
   "metadata": {},
   "source": [
    "Next, we multiply both sides of the equation by the inverse metric tensor and simplify\n",
    "\n",
    "$$\n",
    "g^{\\sigma\\mu}g_{\\mu\\nu}\\frac{d^2x^{\\nu}}{d\\lambda^2} \n",
    "+ \\frac{1}{2} g^{\\sigma\\mu}\\left( -\\frac{\\partial g_{\\gamma\\nu}}{\\partial {x^\\alpha}}\n",
    "+ \\frac{\\partial g_{\\mu\\nu}}{\\partial x^\\gamma}\n",
    "+ \\frac{\\partial g_{\\mu\\gamma}}{\\partial x^\\nu}\\right)\n",
    "\\frac{dx^\\gamma}{d\\lambda}\\frac{dx^\\nu}{d\\lambda}\n",
    " = 0 \n",
    "$$\n",
    "\n",
    "$$\n",
    "g^{\\sigma}_{\\nu}\\frac{d^2x^{\\nu}}{d\\lambda^2} \n",
    "+ \\frac{1}{2} g^{\\sigma\\mu}\\left( -\\frac{\\partial g_{\\gamma\\nu}}{\\partial {x^\\alpha}}\n",
    "+ \\frac{\\partial g_{\\mu\\nu}}{\\partial x^\\gamma}\n",
    "+ \\frac{\\partial g_{\\mu\\gamma}}{\\partial x^\\nu}\\right)\n",
    "\\frac{dx^\\gamma}{d\\lambda}\\frac{dx^\\nu}{d\\lambda}\n",
    " = 0 \n",
    "$$\n",
    "\n",
    "$$\n",
    "\\frac{d^2x^{\\sigma}}{d\\lambda^2} \n",
    "+ \\frac{1}{2} g^{\\sigma\\mu}\\left( -\\frac{\\partial g_{\\gamma\\nu}}{\\partial {x^\\alpha}}\n",
    "+ \\frac{\\partial g_{\\mu\\nu}}{\\partial x^\\gamma}\n",
    "+ \\frac{\\partial g_{\\mu\\gamma}}{\\partial x^\\nu}\\right)\n",
    "\\frac{dx^\\gamma}{d\\lambda}\\frac{dx^\\nu}{d\\lambda}\n",
    " = 0 \n",
    "$$"
   ]
  },
  {
   "cell_type": "markdown",
   "id": "ed110799",
   "metadata": {},
   "source": [
    "Rearranging the terms in parenthesis we get"
   ]
  },
  {
   "cell_type": "markdown",
   "id": "5d4dfed3",
   "metadata": {},
   "source": [
    "$$\\frac{d^2x^{\\sigma}}{d\\lambda^2} \n",
    "+ \\frac{1}{2} g^{\\sigma\\mu}\n",
    "\\left(\n",
    "\\frac{\\partial g_{\\mu\\nu}}{\\partial x^\\gamma}\n",
    "+ \\frac{\\partial g_{\\mu\\gamma}}{\\partial x^\\nu}\n",
    "-\\frac{\\partial g_{\\gamma\\nu}}{\\partial {x^\\alpha}}\n",
    "\\right) \\frac{dx^\\gamma}{d\\lambda}\\frac{dx^\\nu}{d\\lambda}\n",
    " = 0 \\tag{12}$$"
   ]
  },
  {
   "cell_type": "markdown",
   "id": "40f19be5",
   "metadata": {},
   "source": [
    "Remembering the definition of the Christoffel symbol in equation (10) we notice that we now have exactly that. Substituting the Christoffel symbol into (12) we finally arrive at \n",
    "$$\n",
    "\\frac{d^2x^\\sigma}{d\\lambda^2} + \\Gamma_{\\gamma\\nu}^{\\sigma}\\frac{dx^\\gamma}{d\\lambda}\\frac{dx^\\nu}{d\\lambda}=0 \n",
    "$$\n",
    " which is the geodesic equation first described in (1)."
   ]
  },
  {
   "cell_type": "markdown",
   "id": "2836d4e3",
   "metadata": {},
   "source": [
    "#### Conclusion\n",
    "We have therefore shown that the geodesic equation satisfies the criteria for an extremal value by using the Euler-Lagrange equations. This equation when solved for a set of initial values and a particular metric tensor describing the space, provides the equations for an object in motion through the space. The equation may be viewed as an extension of Newton's second law. The first term is the second derivative of the position coordinates, which we know as acceleration. The second term is equal and opposite the first term and describes the curvature of the space along an arc length. \n",
    "\n",
    "We may interpret the equation as the statement that the acceleration of an object subject to no external forces is equal and opposite to the curvature of the space in which it travels. This important result means that even under no external forces, a body moving in curved space experiences a nonzero acceleration. This is how gravity works."
   ]
  }
 ],
 "metadata": {
  "kernelspec": {
   "display_name": "Python 3 (ipykernel)",
   "language": "python",
   "name": "python3"
  },
  "language_info": {
   "codemirror_mode": {
    "name": "ipython",
    "version": 3
   },
   "file_extension": ".py",
   "mimetype": "text/x-python",
   "name": "python",
   "nbconvert_exporter": "python",
   "pygments_lexer": "ipython3",
   "version": "3.10.9"
  }
 },
 "nbformat": 4,
 "nbformat_minor": 5
}
