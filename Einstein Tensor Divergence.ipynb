{
 "cells": [
  {
   "cell_type": "markdown",
   "id": "c94e65de",
   "metadata": {},
   "source": [
    "### Divergence of the Einstein Tensor"
   ]
  },
  {
   "cell_type": "markdown",
   "id": "659ac9f3",
   "metadata": {},
   "source": [
    "#### Introduction\n",
    "In Einstein's theory of General Relativity, the curvature of spacetime in a region is related to the mass and energy content of that region by the following *field equations* $$G_{\\mu\\nu} +\\Lambda g_{\\mu\\nu} = \\frac{8\\pi G}{c^4}T_{\\mu\\nu} \\tag{1}$$"
   ]
  },
  {
   "cell_type": "markdown",
   "id": "3537938a",
   "metadata": {},
   "source": [
    "where the Einstein tensor $G_{\\mu\\nu}$ is the curvature component, the cosmological constant $\\Lambda$ describes the expanding universe, $g_{\\mu\\nu}$ is the metric tensor, the stress energy tensor $T_{\\mu\\nu}$ is the mass and energy component, $G$ is the universal gravitation constant, and $c$ is the speed of light."
   ]
  },
  {
   "cell_type": "markdown",
   "id": "e3c0c18c",
   "metadata": {},
   "source": [
    "In order for the law of conservation of mass and energy to be true, the stress energy tensor must have zero divergence. Since the stress energy tensor has zero divergence, in order for the field equations to be true the Einstein tensor must also have zero divergence. In this notebook I will show how this is proven."
   ]
  },
  {
   "cell_type": "markdown",
   "id": "b3029356",
   "metadata": {},
   "source": [
    "#### Definitions and necessary properties"
   ]
  },
  {
   "cell_type": "markdown",
   "id": "0c8ff451",
   "metadata": {},
   "source": [
    "The covariant divergence of the Einstein tensor is written as\n",
    "$$\\nabla_{\\mu}G^{\\mu}_{\\;\\nu}$$"
   ]
  },
  {
   "cell_type": "markdown",
   "id": "9548a081",
   "metadata": {},
   "source": [
    "where $\\nabla_{\\mu}$ is the *covariant derivative* with respect to the $\\mu$th index."
   ]
  },
  {
   "cell_type": "markdown",
   "id": "50de5313",
   "metadata": {},
   "source": [
    "The Einstein tensor is defined as  $$G_{\\mu\\nu} = R_{\\mu\\nu} - \\frac{1}{2}g_{\\mu\\nu}R \\tag{2}$$"
   ]
  },
  {
   "cell_type": "markdown",
   "id": "73b33fca",
   "metadata": {},
   "source": [
    "where $R_{\\mu\\nu}$ is the *Ricci tensor*, $g_{\\mu\\nu}$ is the *metric tensor*, and $R$ is the *Ricci scalar*."
   ]
  },
  {
   "cell_type": "markdown",
   "id": "21ef6c10",
   "metadata": {},
   "source": [
    "The Ricci tensor $R_{\\mu\\nu}$ is defined as the result of the contraction of the first and third indices of the *Riemann curvature tensor* $R^{\\lambda}_{\\;\\mu k\\nu}$ by the following equation"
   ]
  },
  {
   "cell_type": "markdown",
   "id": "78840a16",
   "metadata": {},
   "source": [
    "$$R_{\\mu\\nu} = R^{\\lambda}_{\\;\\mu\\lambda\\nu}$$"
   ]
  },
  {
   "cell_type": "markdown",
   "id": "d96abbb1",
   "metadata": {},
   "source": [
    "and the Ricci scalar is the contraction of the Ricci tensor over both indices (or the *trace* of the Ricci tensor)\n",
    "$$R = R^{\\mu}_{\\;\\mu}$$"
   ]
  },
  {
   "cell_type": "markdown",
   "id": "75dba626",
   "metadata": {},
   "source": [
    "The Riemann curvature tensor being a rank four tensor has six possible contractions of its indices. Each of these contractions has its own properties which come from the symmetries of the curvature tensor. The six contractions are"
   ]
  },
  {
   "cell_type": "markdown",
   "id": "7eb14cb9",
   "metadata": {},
   "source": [
    "1) $R^{\\lambda}_{\\;\\lambda k\\nu} = 0$\n",
    "2) $R^{\\lambda}_{\\;\\mu\\lambda\\nu} = R_{\\mu\\nu}$\n",
    "3) $R^{\\lambda}_{\\;\\mu k\\lambda}=0$\n",
    "4) $R^{\\;\\mu}_{\\lambda\\;\\mu k}=-R_{\\lambda k}$\n",
    "5) $R^{\\; \\mu}_{\\lambda\\; k\\mu} = R_{\\lambda k}$\n",
    "6) $R^{\\;\\;k}_{\\lambda\\mu\\; k} = 0$"
   ]
  },
  {
   "cell_type": "markdown",
   "id": "f346b67e",
   "metadata": {},
   "source": [
    "#### Proof of zero divergence"
   ]
  },
  {
   "cell_type": "markdown",
   "id": "6272f6c9",
   "metadata": {},
   "source": [
    "In order to show that the Einstein tensor has zero divergence, we first start with what are called the *Bianchi identities*. These are properties of the covariant derivative of the curvature tensor and arise from its symmetries."
   ]
  },
  {
   "cell_type": "markdown",
   "id": "891401f1",
   "metadata": {},
   "source": [
    "The Bianchi identities are written as \n",
    "$$\\nabla_{\\eta}R_{\\lambda\\mu\\nu k} + \\nabla_{k}R_{\\lambda\\mu\\eta\\nu} + \\nabla_{\\nu}R_{\\lambda\\mu k\\eta}=0 $$"
   ]
  },
  {
   "cell_type": "markdown",
   "id": "17130c6f",
   "metadata": {},
   "source": [
    "Multiplying both sides by the inverse metric tensor\n",
    "$$g^{\\lambda\\nu}\\nabla_{\\eta}R_{\\lambda\\mu\\nu k} + g^{\\lambda\\nu}\\nabla_{k}R_{\\lambda\\mu\\eta\\nu} + g^{\\lambda\\nu}\\nabla_{\\nu}R_{\\lambda\\mu k\\eta}=0 $$"
   ]
  },
  {
   "cell_type": "markdown",
   "id": "e18df81c",
   "metadata": {},
   "source": [
    "$$\\nabla_{\\eta}R^{\\nu}_{\\;\\mu\\nu k} + \\nabla_{k}R^{\\lambda}_{\\;\\mu\\eta\\lambda} + \\nabla_{\\nu}R^{\\nu}_{\\;\\mu k\\eta}=0 \\tag{3}$$"
   ]
  },
  {
   "cell_type": "markdown",
   "id": "e5200440",
   "metadata": {},
   "source": [
    "Now the first term is a contraction of the first and third index, and the second term is a contraction of the first and fourth index. We can use properties (2) and (3) from the list above to rewrite equation (3) as "
   ]
  },
  {
   "cell_type": "markdown",
   "id": "42b3eaf6",
   "metadata": {},
   "source": [
    "$$\\nabla_{\\eta}R_{\\mu k} - \\nabla_{k}R_{\\mu\\eta} + \\nabla_{\\nu}R^{\\nu}_{\\;\\mu k\\eta}=0 \\tag{4}$$"
   ]
  },
  {
   "cell_type": "markdown",
   "id": "b3cb24c5",
   "metadata": {},
   "source": [
    "since $$R^{\\lambda}_{\\;\\mu\\eta\\lambda} = -R^{\\lambda}_{\\;\\mu\\eta\\lambda} = 0$$"
   ]
  },
  {
   "cell_type": "markdown",
   "id": "ddd920a2",
   "metadata": {},
   "source": [
    "Multiplying equation (4) by the inverse metric tensor again \n",
    "\n",
    "$$g^{k\\mu}\\nabla_{\\eta}R_{\\mu k} - g^{k\\mu}\\nabla_{k}R_{\\mu\\eta} + g^{k\\mu}\\nabla_{\\nu}R^{\\nu}_{\\;\\mu k\\eta}=0 $$"
   ]
  },
  {
   "cell_type": "markdown",
   "id": "559e867a",
   "metadata": {},
   "source": [
    "$$ \\nabla_{\\eta}R^{k}_{\\;k} - \\nabla_{k}R^{k}_{\\;\\eta} + \\nabla_{\\nu}R^{\\nu k}_{\\;\\;k\\eta}=0$$"
   ]
  },
  {
   "cell_type": "markdown",
   "id": "293cfe32",
   "metadata": {},
   "source": [
    "$$ \\nabla_{\\eta}R - \\nabla_{k}R^{k}_{\\;\\eta} + \\nabla_{\\nu}R^{\\nu k}_{\\;\\;k\\eta}=0 \\tag{5}$$"
   ]
  },
  {
   "cell_type": "markdown",
   "id": "5af258fc",
   "metadata": {},
   "source": [
    "Now in the third term we have a contraction over the second and third index. We can use property (4) from the list to rewrite equation (5) as "
   ]
  },
  {
   "cell_type": "markdown",
   "id": "ea402a46",
   "metadata": {},
   "source": [
    "$$ \\nabla_{\\eta}R - \\nabla_{k}R^{k}_{\\;\\eta} - \\nabla_{\\nu}R^{\\nu}_{\\;\\eta}=0 $$"
   ]
  },
  {
   "cell_type": "markdown",
   "id": "cc6f63af",
   "metadata": {},
   "source": [
    "and we can take advantage of summation index relabeling to change both $k$ and $\\eta$ to $\\mu$"
   ]
  },
  {
   "cell_type": "markdown",
   "id": "18e5e835",
   "metadata": {},
   "source": [
    "$$ \\nabla_{\\eta}R - \\nabla_{\\mu}R^{\\mu}_{\\;\\eta} - \\nabla_{\\mu}R^{\\mu}_{\\;\\eta}=0 $$"
   ]
  },
  {
   "cell_type": "markdown",
   "id": "7a611e14",
   "metadata": {},
   "source": [
    "so that we can write $$ \\nabla_{\\eta}R - 2\\nabla_{\\mu}R^{\\mu}_{\\;\\eta}=0 \\tag{6} $$"
   ]
  },
  {
   "cell_type": "markdown",
   "id": "76990fbe",
   "metadata": {},
   "source": [
    "To simplify this even further we can use the *kronecker delta* $\\delta^{\\mu}_{\\;\\eta}$ on the first term"
   ]
  },
  {
   "cell_type": "markdown",
   "id": "7fea4a2e",
   "metadata": {},
   "source": [
    "$$\\nabla_{\\mu}\\delta^{\\mu}_{\\;\\eta}  R - 2\\nabla_{\\mu}R^{\\mu}_{\\;\\eta}=0 $$"
   ]
  },
  {
   "cell_type": "markdown",
   "id": "e553ff12",
   "metadata": {},
   "source": [
    "and factor the covariant derivative operator $\\nabla_{\\mu}$ out as"
   ]
  },
  {
   "cell_type": "markdown",
   "id": "ca0451d3",
   "metadata": {},
   "source": [
    "$$\\nabla_{\\mu}\\left(\\delta^{\\mu}_{\\;\\eta}R - 2R^{\\mu}_{\\;\\eta}\\right) =0$$"
   ]
  },
  {
   "cell_type": "markdown",
   "id": "335059ae",
   "metadata": {},
   "source": [
    "Dividing both sides by -2 and rearranging the terms in parenthesis we get "
   ]
  },
  {
   "cell_type": "markdown",
   "id": "ec3722d2",
   "metadata": {},
   "source": [
    "$$\\nabla_{\\mu}\\left(R^{\\mu}_{\\;\\eta} - \\frac{1}{2}\\delta^{\\mu}_{\\;\\eta}R\\right) =0 \\tag{7}$$"
   ]
  },
  {
   "cell_type": "markdown",
   "id": "790200f0",
   "metadata": {},
   "source": [
    "We then multiply both sides by the inverse metric tensor and distribute\n",
    "$$g^{\\nu\\eta}\\nabla_{\\mu}\\left(R^{\\mu}_{\\;\\eta} - \\frac{1}{2}\\delta^{\\mu}_{\\;\\eta}R\\right) =0 $$"
   ]
  },
  {
   "cell_type": "markdown",
   "id": "69387367",
   "metadata": {},
   "source": [
    "$$\\nabla_{\\mu}\\left(g^{\\nu\\eta}R^{\\mu}_{\\;\\eta} - \\frac{1}{2}g^{\\nu\\eta}\\delta^{\\mu}_{\\;\\eta}R\\right) =0 $$"
   ]
  },
  {
   "cell_type": "markdown",
   "id": "666c1aaf",
   "metadata": {},
   "source": [
    "$$\\nabla_{\\mu}\\left(R^{\\mu\\nu} - \\frac{1}{2}g^{\\mu\\nu}R\\right) =0 \\tag{8}$$"
   ]
  },
  {
   "cell_type": "markdown",
   "id": "f1e250fb",
   "metadata": {},
   "source": [
    "where finally we can recognize the term in parenthesis as the contravariant version of the Einstein tensor defined in equation (2)"
   ]
  },
  {
   "cell_type": "markdown",
   "id": "a069de81",
   "metadata": {},
   "source": [
    "$$ \\nabla_{\\mu}G^{\\mu\\nu} = 0 \\tag{9}$$"
   ]
  },
  {
   "cell_type": "markdown",
   "id": "e1f88a71",
   "metadata": {},
   "source": [
    "The indices in (9) can be lowered and renamed using the metric tensor to arrive at the original expression"
   ]
  },
  {
   "cell_type": "markdown",
   "id": "8c782c55",
   "metadata": {},
   "source": [
    "$$\\nabla_{\\mu}g_{\\eta\\nu}G^{\\mu\\nu} = \\nabla_{\\mu}G^{\\mu}_{\\;\\eta} = \\nabla_{\\mu}g^{\\;\\eta}_{\\nu}G^{\\mu}_{\\;\\eta} =\\nabla_{\\mu}G^{\\mu}_{\\;\\nu}=0$$"
   ]
  },
  {
   "cell_type": "markdown",
   "id": "942ae46d",
   "metadata": {},
   "source": [
    "This proves that the Einstein tensor satisfies the condition of having zero divergence. This tensor is the only contraction of the curvature tensor that satisfies the condition and was the natural culmination of Einstein's search for a suitable term to represent spacetime curvature as he related it to mass and energy.  \n",
    "\n",
    "It is fascinating that the result of such abstract geometry can have direct implications to the laws of physics, relating the changing curvature of a 4D surface to the fact that matter is neither created nor destroyed, it only changes form and the total sum of the energy and mass in an isolated system remains constant. This is a great example of the beauty and complexity of the theory of General Relativity."
   ]
  }
 ],
 "metadata": {
  "kernelspec": {
   "display_name": "Python 3 (ipykernel)",
   "language": "python",
   "name": "python3"
  },
  "language_info": {
   "codemirror_mode": {
    "name": "ipython",
    "version": 3
   },
   "file_extension": ".py",
   "mimetype": "text/x-python",
   "name": "python",
   "nbconvert_exporter": "python",
   "pygments_lexer": "ipython3",
   "version": "3.10.9"
  }
 },
 "nbformat": 4,
 "nbformat_minor": 5
}
