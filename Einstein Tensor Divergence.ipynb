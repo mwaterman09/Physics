{
 "cells": [
  {
   "cell_type": "markdown",
   "id": "8a8ed5ec",
   "metadata": {},
   "source": [
    "### Divergence of the Einstein Tensor"
   ]
  },
  {
   "cell_type": "markdown",
   "id": "3ca7538d",
   "metadata": {},
   "source": [
    "#### Introduction\n",
    "In Einstein's theory of General Relativity, the curvature of spacetime in a region is related to the mass and energy content of that region by the following *field equations* $$G_{\\mu\\nu} +\\Lambda g_{\\mu\\nu} = \\frac{8\\pi G}{c^4}T_{\\mu\\nu} $$"
   ]
  },
  {
   "cell_type": "markdown",
   "id": "0417061f",
   "metadata": {},
   "source": [
    "where the Einstein tensor $G_{\\mu\\nu}$ is the curvature component, the cosmological constant $\\Lambda$ describes the expanding universe, $g_{\\mu\\nu}$ is the metric tensor, the stress energy tensor $T_{\\mu\\nu}$ is the mass and energy component, $G$ is the universal gravitation constant, and $c$ is the speed of light."
   ]
  },
  {
   "cell_type": "markdown",
   "id": "028bbb25",
   "metadata": {},
   "source": [
    "In order for the law of conservation of mass and energy to be true, the stress energy tensor must have zero divergence. Since the stress energy tensor has zero divergence, in order for the field equations to be true the Einstein tensor must also have zero divergence. In this notebook I will show how this is proven."
   ]
  },
  {
   "cell_type": "markdown",
   "id": "dc6f82dd",
   "metadata": {},
   "source": [
    "#### Definitions and necessary properties"
   ]
  },
  {
   "cell_type": "markdown",
   "id": "6e3f12dc",
   "metadata": {},
   "source": [
    "The covariant divergence of the Einstein tensor is written as\n",
    "$$\\nabla_{\\mu}G^{\\mu}_{\\;\\nu} \\tag{1}$$"
   ]
  },
  {
   "cell_type": "markdown",
   "id": "a3ac9c71",
   "metadata": {},
   "source": [
    "where $\\nabla_{\\mu}$ is the *covariant derivative* with respect to the $\\mu$th index."
   ]
  },
  {
   "cell_type": "markdown",
   "id": "d92c7e37",
   "metadata": {},
   "source": [
    "The Einstein tensor is defined as  $$G_{\\mu\\nu} = R_{\\mu\\nu} - \\frac{1}{2}g_{\\mu\\nu}R \\tag{2}$$"
   ]
  },
  {
   "cell_type": "markdown",
   "id": "ff230f1f",
   "metadata": {},
   "source": [
    "where $R_{\\mu\\nu}$ is the *Ricci tensor*, $g_{\\mu\\nu}$ is the *metric tensor*, and $R$ is the *Ricci scalar*."
   ]
  },
  {
   "cell_type": "markdown",
   "id": "2d536487",
   "metadata": {},
   "source": [
    "The Ricci tensor $R_{\\mu\\nu}$ is defined as the result of the contraction of the first and third indices of the *Riemann curvature tensor* $R^{\\lambda}_{\\;\\mu k\\nu}$ by the following equation"
   ]
  },
  {
   "cell_type": "markdown",
   "id": "722163b5",
   "metadata": {},
   "source": [
    "$$R_{\\mu\\nu} = R^{\\lambda}_{\\;\\mu\\lambda\\nu}$$"
   ]
  },
  {
   "cell_type": "markdown",
   "id": "96d4a3e7",
   "metadata": {},
   "source": [
    "and the Ricci scalar is the contraction of the Ricci tensor over both indices (or the *trace* of the Ricci tensor)\n",
    "$$R = R^{\\mu}_{\\;\\mu}$$"
   ]
  },
  {
   "cell_type": "markdown",
   "id": "5500a742",
   "metadata": {},
   "source": [
    "The Riemann curvature tensor being a rank four tensor has six possible contractions of its indices. Each of these contractions has its own properties which come from the symmetries of the curvature tensor. The six contractions are"
   ]
  },
  {
   "cell_type": "markdown",
   "id": "90fc4af9",
   "metadata": {},
   "source": [
    "1) $R^{\\lambda}_{\\;\\lambda k\\nu} = 0$\n",
    "2) $R^{\\lambda}_{\\;\\mu\\lambda\\nu} = R_{\\mu\\nu}$\n",
    "3) $R^{\\lambda}_{\\;\\mu k\\lambda}=0$\n",
    "4) $R^{\\;\\mu}_{\\lambda\\;\\mu k}=-R_{\\lambda k}$\n",
    "5) $R^{\\; \\mu}_{\\lambda\\; k\\mu} = R_{\\lambda k}$\n",
    "6) $R^{\\;\\;k}_{\\lambda\\mu\\; k} = 0$"
   ]
  },
  {
   "cell_type": "markdown",
   "id": "4747b4b2",
   "metadata": {},
   "source": [
    "#### Proof of zero divergence"
   ]
  },
  {
   "cell_type": "markdown",
   "id": "3a892a85",
   "metadata": {},
   "source": [
    "In order to show that the Einstein tensor has zero divergence, we first start with what are called the *Bianchi identities*. These are properties of the covariant derivative of the curvature tensor and arise from its symmetries."
   ]
  },
  {
   "cell_type": "markdown",
   "id": "6c32184c",
   "metadata": {},
   "source": [
    "The Bianchi identities are written as \n",
    "$$\\nabla_{\\eta}R_{\\lambda\\mu\\nu k} + \\nabla_{k}R_{\\lambda\\mu\\eta\\nu} + \\nabla_{\\nu}R_{\\lambda\\mu k\\eta}=0 $$"
   ]
  },
  {
   "cell_type": "markdown",
   "id": "7e0c1219",
   "metadata": {},
   "source": [
    "Multiplying both sides by the inverse metric tensor\n",
    "$$g^{\\lambda\\nu}\\nabla_{\\eta}R_{\\lambda\\mu\\nu k} + g^{\\lambda\\nu}\\nabla_{k}R_{\\lambda\\mu\\eta\\nu} + g^{\\lambda\\nu}\\nabla_{\\nu}R_{\\lambda\\mu k\\eta}=0 $$"
   ]
  },
  {
   "cell_type": "markdown",
   "id": "d8ef0abb",
   "metadata": {},
   "source": [
    "$$\\nabla_{\\eta}R^{\\nu}_{\\;\\mu\\nu k} + \\nabla_{k}R^{\\lambda}_{\\;\\mu\\eta\\lambda} + \\nabla_{\\nu}R^{\\nu}_{\\;\\mu k\\eta}=0 \\tag{3}$$"
   ]
  },
  {
   "cell_type": "markdown",
   "id": "17e98377",
   "metadata": {},
   "source": [
    "Now the first term is a contraction of the first and third index, and the second term is a contraction of the first and fourth index. We can use properties (2) and (3) from the list above to rewrite equation (3) as "
   ]
  },
  {
   "cell_type": "markdown",
   "id": "80dbc6f1",
   "metadata": {},
   "source": [
    "$$\\nabla_{\\eta}R_{\\mu k} - \\nabla_{k}R_{\\mu\\eta} + \\nabla_{\\nu}R^{\\nu}_{\\;\\mu k\\eta}=0 \\tag{4}$$"
   ]
  },
  {
   "cell_type": "markdown",
   "id": "ce55bae1",
   "metadata": {},
   "source": [
    "since $$R^{\\lambda}_{\\;\\mu\\eta\\lambda} = -R^{\\lambda}_{\\;\\mu\\eta\\lambda} = 0$$"
   ]
  },
  {
   "cell_type": "markdown",
   "id": "66317180",
   "metadata": {},
   "source": [
    "Multiplying equation (4) by the inverse metric tensor again \n",
    "\n",
    "$$g^{k\\mu}\\nabla_{\\eta}R_{\\mu k} - g^{k\\mu}\\nabla_{k}R_{\\mu\\eta} + g^{k\\mu}\\nabla_{\\nu}R^{\\nu}_{\\;\\mu k\\eta}=0 $$"
   ]
  },
  {
   "cell_type": "markdown",
   "id": "896d0063",
   "metadata": {},
   "source": [
    "$$ \\nabla_{\\eta}R^{k}_{\\;k} - \\nabla_{k}R^{k}_{\\;\\eta} + \\nabla_{\\nu}R^{\\nu k}_{\\;\\;k\\eta}=0$$"
   ]
  },
  {
   "cell_type": "markdown",
   "id": "ea964755",
   "metadata": {},
   "source": [
    "$$ \\nabla_{\\eta}R - \\nabla_{k}R^{k}_{\\;\\eta} + \\nabla_{\\nu}R^{\\nu k}_{\\;\\;k\\eta}=0 \\tag{5}$$"
   ]
  },
  {
   "cell_type": "markdown",
   "id": "6ca830f0",
   "metadata": {},
   "source": [
    "Now in the third term we have a contraction over the second and third index. We can use property (4) from the list to rewrite equation (5) as "
   ]
  },
  {
   "cell_type": "markdown",
   "id": "c5308387",
   "metadata": {},
   "source": [
    "$$ \\nabla_{\\eta}R - \\nabla_{k}R^{k}_{\\;\\eta} - \\nabla_{\\nu}R^{\\nu}_{\\;\\eta}=0 $$"
   ]
  },
  {
   "cell_type": "markdown",
   "id": "cfa8354e",
   "metadata": {},
   "source": [
    "and we can take advantage of summation index relabeling to change both $k$ and $\\eta$ to $\\mu$"
   ]
  },
  {
   "cell_type": "markdown",
   "id": "4a2bdff5",
   "metadata": {},
   "source": [
    "$$ \\nabla_{\\eta}R - \\nabla_{\\mu}R^{\\mu}_{\\;\\eta} - \\nabla_{\\mu}R^{\\mu}_{\\;\\eta}=0 $$"
   ]
  },
  {
   "cell_type": "markdown",
   "id": "1f1e7f07",
   "metadata": {},
   "source": [
    "so that we can write $$ \\nabla_{\\eta}R - 2\\nabla_{\\mu}R^{\\mu}_{\\;\\eta}=0 \\tag{6} $$"
   ]
  },
  {
   "cell_type": "markdown",
   "id": "c99437b4",
   "metadata": {},
   "source": [
    "To simplify this even further we can use the *kronecker delta* $\\delta^{\\mu}_{\\;\\eta}$ on the first term"
   ]
  },
  {
   "cell_type": "markdown",
   "id": "cb349198",
   "metadata": {},
   "source": [
    "$$\\nabla_{\\mu}\\delta^{\\mu}_{\\;\\eta}  R - 2\\nabla_{\\mu}R^{\\mu}_{\\;\\eta}=0 $$"
   ]
  },
  {
   "cell_type": "markdown",
   "id": "2ba410a0",
   "metadata": {},
   "source": [
    "and factor the covariant derivative operator $\\nabla_{\\mu}$ out as"
   ]
  },
  {
   "cell_type": "markdown",
   "id": "9698ef7d",
   "metadata": {},
   "source": [
    "$$\\nabla_{\\mu}\\left(\\delta^{\\mu}_{\\;\\eta}R - 2R^{\\mu}_{\\;\\eta}\\right) =0$$"
   ]
  },
  {
   "cell_type": "markdown",
   "id": "15fb9e5f",
   "metadata": {},
   "source": [
    "Dividing both sides by -2 and rearranging the terms in parenthesis we get "
   ]
  },
  {
   "cell_type": "markdown",
   "id": "c3ee2575",
   "metadata": {},
   "source": [
    "$$\\nabla_{\\mu}\\left(R^{\\mu}_{\\;\\eta} - \\frac{1}{2}\\delta^{\\mu}_{\\;\\eta}R\\right) =0 \\tag{7}$$"
   ]
  },
  {
   "cell_type": "markdown",
   "id": "9114568f",
   "metadata": {},
   "source": [
    "We then multiply both sides by the inverse metric tensor and distribute\n",
    "$$g^{\\nu\\eta}\\nabla_{\\mu}\\left(R^{\\mu}_{\\;\\eta} - \\frac{1}{2}\\delta^{\\mu}_{\\;\\eta}R\\right) =0 $$"
   ]
  },
  {
   "cell_type": "markdown",
   "id": "3b283cdb",
   "metadata": {},
   "source": [
    "$$\\nabla_{\\mu}\\left(g^{\\nu\\eta}R^{\\mu}_{\\;\\eta} - \\frac{1}{2}g^{\\nu\\eta}\\delta^{\\mu}_{\\;\\eta}R\\right) =0 $$"
   ]
  },
  {
   "cell_type": "markdown",
   "id": "11c2c8c7",
   "metadata": {},
   "source": [
    "$$\\nabla_{\\mu}\\left(R^{\\mu\\nu} - \\frac{1}{2}g^{\\mu\\nu}R\\right) =0 \\tag{8}$$"
   ]
  },
  {
   "cell_type": "markdown",
   "id": "4ba71df7",
   "metadata": {},
   "source": [
    "where finally we can recognize the term in parenthesis as the contravariant version of the Einstein tensor defined in equation (2)"
   ]
  },
  {
   "cell_type": "markdown",
   "id": "a019f8e2",
   "metadata": {},
   "source": [
    "$$ \\nabla_{\\mu}G^{\\mu\\nu} = 0 \\tag{9}$$"
   ]
  },
  {
   "cell_type": "markdown",
   "id": "48342d70",
   "metadata": {},
   "source": [
    "The indices in (9) can be lowered and renamed using the metric tensor to arrive at the original expression in (1) as follows"
   ]
  },
  {
   "cell_type": "markdown",
   "id": "8c575257",
   "metadata": {},
   "source": [
    "$$\\nabla_{\\mu}g_{\\eta\\nu}G^{\\mu\\nu} = \\nabla_{\\mu}G^{\\mu}_{\\;\\eta} = \\nabla_{\\mu}g^{\\;\\eta}_{\\nu}G^{\\mu}_{\\;\\eta} =\\nabla_{\\mu}G^{\\mu}_{\\;\\nu}=0$$"
   ]
  },
  {
   "cell_type": "markdown",
   "id": "09fae87c",
   "metadata": {},
   "source": [
    "This proves that the Einstein tensor satisfies the condition of having zero divergence. This tensor is the only contraction of the curvature tensor that satisfies the condition and was the natural culmination of Einstein's search for a suitable term to represent spacetime curvature as he related it to mass and energy.  \n",
    "\n",
    "It is fascinating that the result of such abstract geometry can have direct implications to the laws of physics, relating the changing curvature of a 4D surface to the fact that matter is neither created nor destroyed, it only changes form and the total sum of the energy and mass in an isolated system remains constant. This is a great example of the beauty and complexity of the theory of General Relativity."
   ]
  }
 ],
 "metadata": {
  "kernelspec": {
   "display_name": "Python 3 (ipykernel)",
   "language": "python",
   "name": "python3"
  },
  "language_info": {
   "codemirror_mode": {
    "name": "ipython",
    "version": 3
   },
   "file_extension": ".py",
   "mimetype": "text/x-python",
   "name": "python",
   "nbconvert_exporter": "python",
   "pygments_lexer": "ipython3",
   "version": "3.10.9"
  }
 },
 "nbformat": 4,
 "nbformat_minor": 5
}
