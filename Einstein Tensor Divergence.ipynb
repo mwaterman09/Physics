{
 "cells": [
  {
   "cell_type": "markdown",
   "id": "4135c06c",
   "metadata": {},
   "source": [
    "### Divergence of the Einstein Tensor"
   ]
  },
  {
   "cell_type": "markdown",
   "id": "d6749e21",
   "metadata": {},
   "source": [
    "#### Introduction\n",
    "In Einstein's theory of General Relativity, the curvature of spacetime in a region is related to the mass and energy content of that region by the following *field equations* $$G_{\\mu\\nu} = \\frac{8\\pi G}{c^4}T_{\\mu\\nu} \\tag{1}$$"
   ]
  },
  {
   "cell_type": "markdown",
   "id": "36782b67",
   "metadata": {},
   "source": [
    "where the Einstein tensor $G_{\\mu\\nu}$ is the curvature component, the stress energy tensor $T_{\\mu\\nu}$ is the mass and energy component, $G$ is the universal gravitation constant, and $c$ is the speed of light."
   ]
  },
  {
   "cell_type": "markdown",
   "id": "af5920a0",
   "metadata": {},
   "source": [
    "In order for the law of conservation of mass and energy to be true, the stress energy tensor must have zero divergence. Since the stress energy tensor has zero divergence, in order for the field equations to be true the Einstein tensor must also have zero divergence. In this notebook I will show how this is proven."
   ]
  },
  {
   "cell_type": "markdown",
   "id": "ce9414e3",
   "metadata": {},
   "source": [
    "#### Definitions and necessary properties"
   ]
  },
  {
   "cell_type": "markdown",
   "id": "66daa883",
   "metadata": {},
   "source": [
    "The covariant divergence of the Einstein tensor is written as\n",
    "$$\\nabla_{\\mu}G^{\\mu}_{\\;\\nu}$$"
   ]
  },
  {
   "cell_type": "markdown",
   "id": "6d7d6046",
   "metadata": {},
   "source": [
    "where $\\nabla_{\\mu}$ is the *covariant derivative* with respect to the $\\mu$th index."
   ]
  },
  {
   "cell_type": "markdown",
   "id": "141eab09",
   "metadata": {},
   "source": [
    "The Einstein tensor is defined as  $$G_{\\mu\\nu} = R_{\\mu\\nu} - \\frac{1}{2}g_{\\mu\\nu}R \\tag{2}$$"
   ]
  },
  {
   "cell_type": "markdown",
   "id": "9148a3f7",
   "metadata": {},
   "source": [
    "where $R_{\\mu\\nu}$ is the *Ricci tensor*, $g_{\\mu\\nu}$ is the *metric tensor*, and $R$ is the *Ricci scalar*."
   ]
  },
  {
   "cell_type": "markdown",
   "id": "a070ac02",
   "metadata": {},
   "source": [
    "The Ricci tensor $R_{\\mu\\nu}$ is defined as the result of the contraction of the first and third indices of the *Riemann curvature tensor* $R^{\\lambda}_{\\;\\mu k\\nu}$ by the following equation"
   ]
  },
  {
   "cell_type": "markdown",
   "id": "347f0eca",
   "metadata": {},
   "source": [
    "$$R_{\\mu\\nu} = R^{\\lambda}_{\\;\\mu\\lambda\\nu}$$"
   ]
  },
  {
   "cell_type": "markdown",
   "id": "de5bf5a0",
   "metadata": {},
   "source": [
    "and the Ricci scalar is the contraction of the Ricci tensor over both indices (or the *trace* of the Ricci tensor)\n",
    "$$R = R^{\\mu}_{\\;\\mu}$$"
   ]
  },
  {
   "cell_type": "markdown",
   "id": "42749fea",
   "metadata": {},
   "source": [
    "The Riemann curvature tensor being a rank four tensor has six possible contractions of its indices. Each of these contractions has its own properties which come from the symmetries of the curvature tensor. The six contractions are"
   ]
  },
  {
   "cell_type": "markdown",
   "id": "07dc6947",
   "metadata": {},
   "source": [
    "1) $R^{\\lambda}_{\\;\\lambda k\\nu} = 0$\n",
    "2) $R^{\\lambda}_{\\;\\mu\\lambda\\nu} = R_{\\mu\\nu}$\n",
    "3) $R^{\\lambda}_{\\;\\mu k\\lambda}=0$\n",
    "4) $R^{\\;\\mu}_{\\lambda\\;\\mu k}=-R_{\\lambda k}$\n",
    "5) $R^{\\; \\mu}_{\\lambda\\; k\\mu} = R_{\\lambda k}$\n",
    "6) $R^{\\;\\;k}_{\\lambda\\mu\\; k} = 0$"
   ]
  },
  {
   "cell_type": "markdown",
   "id": "7b22bf6f",
   "metadata": {},
   "source": [
    "#### Proof of zero divergence"
   ]
  },
  {
   "cell_type": "markdown",
   "id": "848b180a",
   "metadata": {},
   "source": [
    "In order to show that the Einstein tensor has zero divergence, we first start with what are called the *Bianchi identities*. These are properties of the covariant derivative of the curvature tensor and arise from its symmetries."
   ]
  },
  {
   "cell_type": "markdown",
   "id": "85819a18",
   "metadata": {},
   "source": [
    "The Bianchi identities are written as \n",
    "$$\\nabla_{\\eta}R_{\\lambda\\mu\\nu k} + \\nabla_{k}R_{\\lambda\\mu\\eta\\nu} + \\nabla_{\\nu}R_{\\lambda\\mu k\\eta}=0 $$"
   ]
  },
  {
   "cell_type": "markdown",
   "id": "fe0eec05",
   "metadata": {},
   "source": [
    "Multiplying both sides by the inverse metric tensor\n",
    "$$g^{\\lambda\\nu}\\nabla_{\\eta}R_{\\lambda\\mu\\nu k} + g^{\\lambda\\nu}\\nabla_{k}R_{\\lambda\\mu\\eta\\nu} + g^{\\lambda\\nu}\\nabla_{\\nu}R_{\\lambda\\mu k\\eta}=0 $$"
   ]
  },
  {
   "cell_type": "markdown",
   "id": "47781d8b",
   "metadata": {},
   "source": [
    "$$\\nabla_{\\eta}R^{\\nu}_{\\;\\mu\\nu k} + \\nabla_{k}R^{\\lambda}_{\\;\\mu\\eta\\lambda} + \\nabla_{\\nu}R^{\\nu}_{\\;\\mu k\\eta}=0 \\tag{3}$$"
   ]
  },
  {
   "cell_type": "markdown",
   "id": "92b7c745",
   "metadata": {},
   "source": [
    "Now the first term is a contraction of the first and third index, and the second term is a contraction of the first and fourth index. We can use properties (2) and (3) from the list above to rewrite equation (3) as "
   ]
  },
  {
   "cell_type": "markdown",
   "id": "38076d85",
   "metadata": {},
   "source": [
    "$$\\nabla_{\\eta}R_{\\mu k} - \\nabla_{k}R_{\\mu\\eta} + \\nabla_{\\nu}R^{\\nu}_{\\;\\mu k\\eta}=0 \\tag{4}$$"
   ]
  },
  {
   "cell_type": "markdown",
   "id": "101f78b0",
   "metadata": {},
   "source": [
    "since $$R^{\\lambda}_{\\;\\mu\\eta\\lambda} = -R^{\\lambda}_{\\;\\mu\\eta\\lambda} = 0$$"
   ]
  },
  {
   "cell_type": "markdown",
   "id": "0e9478a2",
   "metadata": {},
   "source": [
    "Multiplying equation (4) by the inverse metric tensor again \n",
    "\n",
    "$$g^{k\\mu}\\nabla_{\\eta}R_{\\mu k} - g^{k\\mu}\\nabla_{k}R_{\\mu\\eta} + g^{k\\mu}\\nabla_{\\nu}R^{\\nu}_{\\;\\mu k\\eta}=0 $$"
   ]
  },
  {
   "cell_type": "markdown",
   "id": "d03c8df9",
   "metadata": {},
   "source": [
    "$$ \\nabla_{\\eta}R^{k}_{\\;k} - \\nabla_{k}R^{k}_{\\;\\eta} + \\nabla_{\\nu}R^{\\nu k}_{\\;\\;k\\eta}=0$$"
   ]
  },
  {
   "cell_type": "markdown",
   "id": "b23983e8",
   "metadata": {},
   "source": [
    "$$ \\nabla_{\\eta}R - \\nabla_{k}R^{k}_{\\;\\eta} + \\nabla_{\\nu}R^{\\nu k}_{\\;\\;k\\eta}=0 \\tag{5}$$"
   ]
  },
  {
   "cell_type": "markdown",
   "id": "278bc2a0",
   "metadata": {},
   "source": [
    "Now in the third term we have a contraction over the second and third index. We can use property (4) from the list to rewrite equation (5) as "
   ]
  },
  {
   "cell_type": "markdown",
   "id": "c3fdd420",
   "metadata": {},
   "source": [
    "$$ \\nabla_{\\eta}R - \\nabla_{k}R^{k}_{\\;\\eta} - \\nabla_{\\nu}R^{\\nu}_{\\;\\eta}=0 $$"
   ]
  },
  {
   "cell_type": "markdown",
   "id": "e39c4121",
   "metadata": {},
   "source": [
    "and we can take advantage of summation index relabeling to change both $k$ and $\\eta$ to $\\mu$"
   ]
  },
  {
   "cell_type": "markdown",
   "id": "0024744c",
   "metadata": {},
   "source": [
    "$$ \\nabla_{\\eta}R - \\nabla_{\\mu}R^{\\mu}_{\\;\\eta} - \\nabla_{\\mu}R^{\\mu}_{\\;\\eta}=0 $$"
   ]
  },
  {
   "cell_type": "markdown",
   "id": "32e5b9d6",
   "metadata": {},
   "source": [
    "so that we can write $$ \\nabla_{\\eta}R - 2\\nabla_{\\mu}R^{\\mu}_{\\;\\eta}=0 \\tag{6} $$"
   ]
  },
  {
   "cell_type": "markdown",
   "id": "5f7e75c0",
   "metadata": {},
   "source": [
    "To simplify this even further we can use the *kronecker delta* $\\delta^{\\mu}_{\\;\\eta}$ on the first term"
   ]
  },
  {
   "cell_type": "markdown",
   "id": "8e70f499",
   "metadata": {},
   "source": [
    "$$\\nabla_{\\mu}\\delta^{\\mu}_{\\;\\eta}  R - 2\\nabla_{\\mu}R^{\\mu}_{\\;\\eta}=0 $$"
   ]
  },
  {
   "cell_type": "markdown",
   "id": "538c711a",
   "metadata": {},
   "source": [
    "and factor the covariant derivative operator $\\nabla_{\\mu}$ out as"
   ]
  },
  {
   "cell_type": "markdown",
   "id": "f7fd3920",
   "metadata": {},
   "source": [
    "$$\\nabla_{\\mu}\\left(\\delta^{\\mu}_{\\;\\eta}R - 2R^{\\mu}_{\\;\\eta}\\right) =0$$"
   ]
  },
  {
   "cell_type": "markdown",
   "id": "7339a92e",
   "metadata": {},
   "source": [
    "Dividing both sides by -2 and rearranging the terms in parenthesis we get "
   ]
  },
  {
   "cell_type": "markdown",
   "id": "378b825c",
   "metadata": {},
   "source": [
    "$$\\nabla_{\\mu}\\left(R^{\\mu}_{\\;\\eta} - \\frac{1}{2}\\delta^{\\mu}_{\\;\\eta}R\\right) =0 \\tag{7}$$"
   ]
  },
  {
   "cell_type": "markdown",
   "id": "004b4d50",
   "metadata": {},
   "source": [
    "We then multiply both sides by the inverse metric tensor and distribute\n",
    "$$g^{\\nu\\eta}\\nabla_{\\mu}\\left(R^{\\mu}_{\\;\\eta} - \\frac{1}{2}\\delta^{\\mu}_{\\;\\eta}R\\right) =0 $$"
   ]
  },
  {
   "cell_type": "markdown",
   "id": "5b145c74",
   "metadata": {},
   "source": [
    "$$\\nabla_{\\mu}\\left(g^{\\nu\\eta}R^{\\mu}_{\\;\\eta} - \\frac{1}{2}g^{\\nu\\eta}\\delta^{\\mu}_{\\;\\eta}R\\right) =0 $$"
   ]
  },
  {
   "cell_type": "markdown",
   "id": "55f9eb1e",
   "metadata": {},
   "source": [
    "$$\\nabla_{\\mu}\\left(R^{\\mu\\nu} - \\frac{1}{2}g^{\\mu\\nu}R\\right) =0 \\tag{8}$$"
   ]
  },
  {
   "cell_type": "markdown",
   "id": "7965ac3c",
   "metadata": {},
   "source": [
    "where finally we can recognize the term in parenthesis as the contravariant version of the Einstein tensor defined in equation (2)"
   ]
  },
  {
   "cell_type": "markdown",
   "id": "82a9a189",
   "metadata": {},
   "source": [
    "$$ \\nabla_{\\mu}G^{\\mu\\nu} = 0 \\tag{9}$$"
   ]
  },
  {
   "cell_type": "markdown",
   "id": "25f38a8f",
   "metadata": {},
   "source": [
    "The indices in (9) can be lowered and renamed using the metric tensor to arrive at the original expression"
   ]
  },
  {
   "cell_type": "markdown",
   "id": "5bea2b77",
   "metadata": {},
   "source": [
    "$$\\nabla_{\\mu}g_{\\eta\\nu}G^{\\mu\\nu} = \\nabla_{\\mu}G^{\\mu}_{\\;\\eta} = \\nabla_{\\mu}g^{\\;\\eta}_{\\nu}G^{\\mu}_{\\;\\eta} =\\nabla_{\\mu}G^{\\mu}_{\\;\\nu}=0$$"
   ]
  },
  {
   "cell_type": "markdown",
   "id": "43e1f01d",
   "metadata": {},
   "source": [
    "This proves that the Einstein tensor satisfies the condition of having zero divergence. This tensor is the only contraction of the curvature tensor that satisfies the condition and was the natural culmination of Einstein's search for a suitable term to represent spacetime curvature as he related it to mass and energy.  \n",
    "\n",
    "It is fascinating that the result of such abstract geometry can have direct implications to the laws of physics, relating the changing curvature of a 4D surface to the fact that matter is neither created nor destroyed, it only changes form and the total sum of the energy and mass in an isolated system remains constant. This is a great example of the beauty and complexity of the theory of General Relativity."
   ]
  }
 ],
 "metadata": {
  "kernelspec": {
   "display_name": "Python 3 (ipykernel)",
   "language": "python",
   "name": "python3"
  },
  "language_info": {
   "codemirror_mode": {
    "name": "ipython",
    "version": 3
   },
   "file_extension": ".py",
   "mimetype": "text/x-python",
   "name": "python",
   "nbconvert_exporter": "python",
   "pygments_lexer": "ipython3",
   "version": "3.10.9"
  }
 },
 "nbformat": 4,
 "nbformat_minor": 5
}
