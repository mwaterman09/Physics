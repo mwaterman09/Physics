{
 "cells": [
  {
   "cell_type": "markdown",
   "id": "18bafadb",
   "metadata": {},
   "source": [
    "### Navier-Stokes Derivation - Tensor Calculus"
   ]
  },
  {
   "cell_type": "markdown",
   "id": "fdd5964f",
   "metadata": {},
   "source": [
    "The Navier-Stokes equations are a system of partial differential equations describing incompressible fluid flow. They are derived from the equilibrium equation using the material derivative, hydrostatic pressure, deviatoric stress, and rate of deformation tensor. I couldn't find any material which performed the entire derivation using consistent tensor index notation, so that is what I will do here. "
   ]
  },
  {
   "cell_type": "markdown",
   "id": "527d1a6a",
   "metadata": {},
   "source": [
    "We start with the equation of equilibrium, which is just Newton's second law for a continuum material.\n",
    "\n",
    "$$\\frac{\\partial \\sigma_{ij}}{\\partial x^j} + \\rho f_i = \\rho a_i \\tag{1}$$"
   ]
  },
  {
   "cell_type": "markdown",
   "id": "f7d56c61",
   "metadata": {},
   "source": [
    "where $\\sigma_{ij}$ is the *stress tensor*, $\\rho$ is the material density, $f_i$ is force against the body, and $a_i$ is the acceleration. This states that the acceleration is equal to the divergence of the stress tensor plus any additional forces present."
   ]
  },
  {
   "cell_type": "markdown",
   "id": "30692b42",
   "metadata": {},
   "source": [
    "We then substitute the definition of the material derivative\n",
    "$$a_i = \\frac{\\partial v_i}{\\partial t} + v_k \\frac{\\partial v_i}{\\partial x^k}$$"
   ]
  },
  {
   "cell_type": "markdown",
   "id": "eb31c384",
   "metadata": {},
   "source": [
    "into equation (1) and obtain\n",
    "$$\\frac{\\partial \\sigma_{ij}}{\\partial x^j} + \\rho f_i = \\rho \\left(\\frac{\\partial v_i}{\\partial t} + v_k \\frac{\\partial v_i}{\\partial x^k}\\right) \\tag{2}$$"
   ]
  },
  {
   "cell_type": "markdown",
   "id": "c8bc1181",
   "metadata": {},
   "source": [
    "The stress tensor $\\sigma_{ij}$ can be decomposed into the sum of the *hydrostatic pressure* and the *deviatoric stress*. The mean hydrostatic pressure is the trace of the stress tensor $\\sigma_{kk}$ divided by the dimension of the problem we are considering, in this case we will use 3 dimensions. The deviatoric stress $s_{ij}$ represents shape distortion while the hydrostatic pressure represents volume change. The decomposition is written as"
   ]
  },
  {
   "cell_type": "markdown",
   "id": "ad74b96e",
   "metadata": {},
   "source": [
    "$$\\sigma_{ij} = s_{ij} + \\frac{1}{3}\\delta_{ij}\\sigma_{kk}\\tag{3}$$"
   ]
  },
  {
   "cell_type": "markdown",
   "id": "d2976846",
   "metadata": {},
   "source": [
    "where $\\delta_{ij}$ is the *Kronecker delta* and is equivalent to the identity matrix."
   ]
  },
  {
   "cell_type": "markdown",
   "id": "922cdb6f",
   "metadata": {},
   "source": [
    "Substituting this into equation (2) we get\n",
    "$$\\frac{\\partial}{\\partial x^j} \\left( s_{ij} + \\frac{1}{3}\\delta_{ij}\\sigma_{kk} \\right)+ \\rho f_i = \\rho \\left(\\frac{\\partial v_i}{\\partial t} + v_k \\frac{\\partial v_i}{\\partial x^k}\\right) \\tag{4}$$"
   ]
  },
  {
   "cell_type": "markdown",
   "id": "7234ca80",
   "metadata": {},
   "source": [
    "Next we will need the velocity gradient tensor. This is defined as \n",
    "$$L_{ij} = \\frac{\\partial v_i}{\\partial x^j}$$"
   ]
  },
  {
   "cell_type": "markdown",
   "id": "bac4ba55",
   "metadata": {},
   "source": [
    "Any rank two tensor may be decomposed into the sum of a symmetric tensor and an antisymmetric tensor. In the case of $L_{ij}$ the decomposition is written as\n",
    "$$L_{ij} =\\frac{1}{2}\\left(\\frac{\\partial v_i}{\\partial x^j} + \\frac{\\partial v_j}{\\partial x^i}\\right) + \\frac{1}{2}\\left(\\frac{\\partial v_i}{\\partial x^j} - \\frac{\\partial v_j}{\\partial x^i}\\right) = D_{ij} + W_{ij}$$"
   ]
  },
  {
   "cell_type": "markdown",
   "id": "68413210",
   "metadata": {},
   "source": [
    "The tensor $D_{ij}$ is the *rate of deformation tensor* and $W_{ij}$ is the *vorticity* or *spin tensor*. Similarly to the decomposition in equation (3), $D_{ij}$ may be written as the sum of a pressure component and a deviatoric component\n",
    "$$D_{ij} = \\frac{1}{2}\\left(\\frac{\\partial v_i}{\\partial x^j} + \\frac{\\partial v_j}{\\partial x^i}\\right) = d_{ij} + \\frac{1}{3}\\delta_{ij}D_{kk} \\tag{5}$$"
   ]
  },
  {
   "cell_type": "markdown",
   "id": "2c4c82a5",
   "metadata": {},
   "source": [
    "where $d_{ij}$ is the *deviatoric rate of deformation tensor* and $D_{kk}$ is the trace of the rate of deformation tensor.\n",
    "In a Newtonian fluid, the deviatoric stress tensor $s_{ij}$ is related to the deviatoric rate of deformation tensor $d_{ij}$ by the following relationship\n",
    "\n",
    "$$ s_{ij} = 2\\mu d_{ij}$$"
   ]
  },
  {
   "cell_type": "markdown",
   "id": "7818b46a",
   "metadata": {},
   "source": [
    "where $\\mu$ is the dynamic viscosity coefficient. Substituting this relationship back into equation (4) and rearranging"
   ]
  },
  {
   "cell_type": "markdown",
   "id": "e9cb8cb6",
   "metadata": {},
   "source": [
    "$$\\rho \\left(\\frac{\\partial v_i}{\\partial t} + v_k \\frac{\\partial v_i}{\\partial x^k}\\right) =\\frac{\\partial}{\\partial x^j} \\left( 2\\mu d_{ij} + \\frac{1}{3}\\delta_{ij}\\sigma_{kk} \\right)+ \\rho f_i $$"
   ]
  },
  {
   "cell_type": "markdown",
   "id": "ef8f0045",
   "metadata": {},
   "source": [
    "Distributing the partial derivative on the right hand side and simplifying\n",
    "\n",
    "$$\\rho \\left(\\frac{\\partial v_i}{\\partial t} + v_k \\frac{\\partial v_i}{\\partial x^k}\\right) =2\\mu \\frac{\\partial d_{ij}}{\\partial x^j} + \\frac{1}{3}\\delta_{ij}\\frac{\\partial\\sigma_{kk}}{\\partial x^j} + \\rho f_i $$"
   ]
  },
  {
   "cell_type": "markdown",
   "id": "7ca383cf",
   "metadata": {},
   "source": [
    "$$\\rho \\left(\\frac{\\partial v_i}{\\partial t} + v_k \\frac{\\partial v_i}{\\partial x^k}\\right) =2\\mu \\frac{\\partial d_{ij}}{\\partial x^j} + \\frac{1}{3}\\frac{\\partial\\sigma_{kk}}{\\partial x^i} + \\rho f_i $$"
   ]
  },
  {
   "cell_type": "markdown",
   "id": "b1bfa65f",
   "metadata": {},
   "source": [
    "Using equation (5) and substituting the definition of the deviatoric rate of deformation tensor in we get\n",
    "\n",
    "$$\\rho \\left(\\frac{\\partial v_i}{\\partial t} + v_k \\frac{\\partial v_i}{\\partial x^k}\\right) =2\\mu \\frac{\\partial}{\\partial x^j} \\left( D_{ij} - \\delta_{ij}D_{kk} \\right) + \\frac{1}{3}\\frac{\\partial\\sigma_{kk}}{\\partial x^i} + \\rho f_i $$"
   ]
  },
  {
   "cell_type": "markdown",
   "id": "1bdc7f21",
   "metadata": {},
   "source": [
    "Distributing the partial derivative on the right hand side and simplifying again\n",
    "\n",
    "$$\\rho \\left(\\frac{\\partial v_i}{\\partial t} + v_k \\frac{\\partial v_i}{\\partial x^k}\\right) =2\\mu \\frac{\\partial D_{ij}}{\\partial x^j} - \\delta_{ij}\\frac{\\partial D_{kk}}{\\partial x^j} + \\frac{1}{3}\\frac{\\partial\\sigma_{kk}}{\\partial x^i} + \\rho f_i $$"
   ]
  },
  {
   "cell_type": "markdown",
   "id": "1276d98e",
   "metadata": {},
   "source": [
    "$$\\rho \\left(\\frac{\\partial v_i}{\\partial t} + v_k \\frac{\\partial v_i}{\\partial x^k}\\right) =2\\mu \\frac{\\partial D_{ij}}{\\partial x^j} -\\frac{\\partial D_{kk}}{\\partial x^i} + \\frac{1}{3}\\frac{\\partial\\sigma_{kk}}{\\partial x^i} + \\rho f_i $$"
   ]
  },
  {
   "cell_type": "markdown",
   "id": "743f0f09",
   "metadata": {},
   "source": [
    "Next we take the definition of the rate of deformation tensor from (5) and substitute it for $D_{ij}$ \n",
    "\n",
    "$$\\rho \\left(\\frac{\\partial v_i}{\\partial t} + v_k \\frac{\\partial v_i}{\\partial x^k}\\right) =2\\mu \\frac{\\partial}{\\partial x^j} \\left[\\frac{1}{2}\\left(\\frac{\\partial v_i}{\\partial x^j} + \\frac{\\partial v_j}{\\partial x^i}\\right) - \\frac{1}{3}\\delta_{ij} \\frac{\\partial v_k}{\\partial x^k}\\right] + \\frac{1}{3}\\frac{\\partial\\sigma_{kk}}{\\partial x^i} + \\rho f_i $$"
   ]
  },
  {
   "cell_type": "markdown",
   "id": "6baf3f82",
   "metadata": {},
   "source": [
    "Distributing the partial derivative operator we get\n",
    "\n",
    "$$\\rho \\left(\\frac{\\partial v_i}{\\partial t} + v_k \\frac{\\partial v_i}{\\partial x^k}\\right) = \\mu\\frac{\\partial^2v_i}{\\partial x^j \\partial x^j} + \\mu\\frac{\\partial^2v_j}{\\partial x^j\\partial x^i} - \\frac{2}{3}\\mu\\delta_{ij}\\frac{\\partial^2v_k}{\\partial x^j\\partial x^k} +\\frac{1}{3}\\frac{\\partial\\sigma_{kk}}{\\partial x^i}+ \\rho f_i$$"
   ]
  },
  {
   "cell_type": "markdown",
   "id": "ac4cd558",
   "metadata": {},
   "source": [
    "$$\\rho \\left(\\frac{\\partial v_i}{\\partial t} + v_k \\frac{\\partial v_i}{\\partial x^k}\\right) = \\mu\\frac{\\partial^2v_i}{\\partial x^j \\partial x^j} + \\mu\\frac{\\partial^2v_j}{\\partial x^j\\partial x^i} - \\frac{2}{3}\\mu\\frac{\\partial^2v_k}{\\partial x^i\\partial x^k} +\\frac{1}{3}\\frac{\\partial\\sigma_{kk}}{\\partial x^i}+ \\rho f_i \\tag{6}$$"
   ]
  },
  {
   "cell_type": "markdown",
   "id": "db73349f",
   "metadata": {},
   "source": [
    "Finally we will use a property of incompressible fluid flow to simplify the equation. Incompressibility is represented as a velocity field that has zero divergence. This property in tensor form is written as $$\\frac{\\partial v_i}{\\partial x^i}=0$$"
   ]
  },
  {
   "cell_type": "markdown",
   "id": "26e78fdd",
   "metadata": {},
   "source": [
    "Applying this property to (6) cancels out two of the three second derivative terms on the right hand side and we are left with\n",
    "\n",
    "$$\\rho \\left(\\frac{\\partial v_i}{\\partial t} + v_k \\frac{\\partial v_i}{\\partial x^k}\\right) = \\mu\\frac{\\partial^2v_i}{\\partial x^j \\partial x^j} +\\frac{1}{3}\\frac{\\partial\\sigma_{kk}}{\\partial x^i}+ \\rho f_i \\tag{7}$$"
   ]
  },
  {
   "cell_type": "markdown",
   "id": "0d8bb423",
   "metadata": {},
   "source": [
    "This is the famous Navier-Stokes equation. Replacing these terms with the traditional vector notation we can write\n",
    "\n",
    "$$\\rho\\left(\\frac{\\partial \\mathbf{v}}{\\partial t} + \\mathbf{v}\\cdot\\nabla\\mathbf{v}\\right) = \\mu\\nabla^2\\mathbf{v} -\\nabla P + \\rho \\mathbf{f}$$"
   ]
  },
  {
   "cell_type": "markdown",
   "id": "a55da3ec",
   "metadata": {},
   "source": []
  }
 ],
 "metadata": {
  "kernelspec": {
   "display_name": "Python 3 (ipykernel)",
   "language": "python",
   "name": "python3"
  },
  "language_info": {
   "codemirror_mode": {
    "name": "ipython",
    "version": 3
   },
   "file_extension": ".py",
   "mimetype": "text/x-python",
   "name": "python",
   "nbconvert_exporter": "python",
   "pygments_lexer": "ipython3",
   "version": "3.10.9"
  }
 },
 "nbformat": 4,
 "nbformat_minor": 5
}
